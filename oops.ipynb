{
 "cells": [
  {
   "cell_type": "code",
   "execution_count": 13,
   "id": "510f0d12",
   "metadata": {},
   "outputs": [],
   "source": [
    "class Atm:\n",
    "    def __init__(self):\n",
    "        self.pin=\"\"\n",
    "        self.balance=0\n",
    "        self.menu()\n",
    "    def menu(self):\n",
    "        user_input=input(\"\"\"\n",
    "                         \n",
    "                         Hello how would you like to proceed?\n",
    "                         1.Enter 1 to create pin\n",
    "                         2.Enter 2 to deposit\n",
    "                         3.Enter 3 to withdraw\n",
    "                         4.Enter 4 to check balance\n",
    "                         5.Enter 5 to exit\n",
    "\n",
    "                         \"\"\")    \n",
    "        if user_input==\"1\":\n",
    "            self.create_pin()\n",
    "        elif user_input==\"2\":\n",
    "            self.deposit()\n",
    "        elif user_input==\"3\":\n",
    "            self.withdraw()\n",
    "        elif user_input==\"4\":\n",
    "            self.check_balance()\n",
    "        else:\n",
    "            print(\"bye\")\n",
    "    def create_pin(self):\n",
    "        self.pin=input(\"Enter your pin\")\n",
    "        print(\"Pin set successfully\")\n",
    "    def deposit(self):\n",
    "        temp=input(\"Enter your pin\")\n",
    "        if temp==self.pin:\n",
    "            amount=int(input(\"Enter your amount\"))\n",
    "            self.balance=self.balance+amount\n",
    "            print(\"Deposit successfully\")\n",
    "        else:\n",
    "            print(\"Invalid pin\")\n",
    "    def withdraw(self):\n",
    "        temp=input(\"Enter your pin\")\n",
    "        if temp==self.pin:\n",
    "            amount=int(input(\"Enter your amount\"))\n",
    "            if amount<self.balance:\n",
    "                self.balance=self.balance-amount\n",
    "                print(\"Operation successfull\")\n",
    "            else:\n",
    "                print(\"Insufficient funds\")  \n",
    "    def check_balance(self):\n",
    "        temp=input(\"Enter your pin\")\n",
    "        if temp==self.pin:\n",
    "            print(self.balance)\n",
    "        else:\n",
    "            print(\"Invalid pin\")    \n",
    "                      \n",
    "                    \n",
    "            \n",
    "            \n",
    "        \n",
    "                           \n",
    "                \n",
    "    "
   ]
  },
  {
   "cell_type": "code",
   "execution_count": 14,
   "id": "a7604bfc",
   "metadata": {},
   "outputs": [
    {
     "name": "stdout",
     "output_type": "stream",
     "text": [
      "Pin set successfully\n"
     ]
    }
   ],
   "source": [
    "sbi=Atm()"
   ]
  },
  {
   "cell_type": "code",
   "execution_count": 11,
   "id": "ff1dcc70",
   "metadata": {},
   "outputs": [
    {
     "name": "stdout",
     "output_type": "stream",
     "text": [
      "Pin set successfully\n"
     ]
    }
   ],
   "source": [
    "sbi.create_pin()"
   ]
  },
  {
   "cell_type": "code",
   "execution_count": 15,
   "id": "cb76b888",
   "metadata": {},
   "outputs": [
    {
     "name": "stdout",
     "output_type": "stream",
     "text": [
      "Deposit successfully\n"
     ]
    }
   ],
   "source": [
    "sbi.deposit()"
   ]
  },
  {
   "cell_type": "code",
   "execution_count": 16,
   "id": "19761c2e",
   "metadata": {},
   "outputs": [
    {
     "name": "stdout",
     "output_type": "stream",
     "text": [
      "5000\n"
     ]
    }
   ],
   "source": [
    "sbi.check_balance()"
   ]
  },
  {
   "cell_type": "code",
   "execution_count": 17,
   "id": "7dcb39ef",
   "metadata": {},
   "outputs": [
    {
     "name": "stdout",
     "output_type": "stream",
     "text": [
      "Operation successfull\n"
     ]
    }
   ],
   "source": [
    "sbi.withdraw()"
   ]
  },
  {
   "cell_type": "code",
   "execution_count": 18,
   "id": "5bde5fe9",
   "metadata": {},
   "outputs": [
    {
     "name": "stdout",
     "output_type": "stream",
     "text": [
      "3000\n"
     ]
    }
   ],
   "source": [
    "sbi.check_balance()"
   ]
  },
  {
   "cell_type": "code",
   "execution_count": null,
   "id": "1ecda46b",
   "metadata": {},
   "outputs": [],
   "source": [
    "class Fraction:\n",
    "    def __init__(self,n,d):\n",
    "        self.num=n\n",
    "        self.den=d\n",
    "    def __str__(self):\n",
    "        return f\"{self.num}/{self.den}\"\n",
    "    def __add__(self,other):\n",
    "        temp_num=self.num*other.den+other.num*self.den\n",
    "        temp_den=self.den*other.den\n",
    "        return f\"{temp_num}/{temp_den}\" \n",
    "    def __sub__(self,other):\n",
    "        temp_num=self.num*other.den-other.num*self.den\n",
    "        temp_den=self.den*other.den\n",
    "        return f\"{temp_num}/{temp_den}\" \n",
    "    def __mul__(self,other):\n",
    "        temp_num=self.num*other.num\n",
    "        temp_den=self.den*other.den\n",
    "        return f\"{temp_num}/{temp_den}\"   \n",
    "    def __truediv__(self,other):\n",
    "        temp_num=self.num*other.den\n",
    "        temp_den=self.den*other.num\n",
    "        return f\"{temp_num}/{temp_den}\"  \n",
    "        "
   ]
  }
 ],
 "metadata": {
  "kernelspec": {
   "display_name": "Python 3",
   "language": "python",
   "name": "python3"
  },
  "language_info": {
   "codemirror_mode": {
    "name": "ipython",
    "version": 3
   },
   "file_extension": ".py",
   "mimetype": "text/x-python",
   "name": "python",
   "nbconvert_exporter": "python",
   "pygments_lexer": "ipython3",
   "version": "3.11.4"
  }
 },
 "nbformat": 4,
 "nbformat_minor": 5
}
